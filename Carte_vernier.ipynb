{
  "nbformat": 4,
  "nbformat_minor": 0,
  "metadata": {
    "colab": {
      "provenance": [],
      "authorship_tag": "ABX9TyPYnXouWEpQTUIZodTBBAYc",
      "include_colab_link": true
    },
    "kernelspec": {
      "name": "python3",
      "display_name": "Python 3"
    },
    "language_info": {
      "name": "python"
    }
  },
  "cells": [
    {
      "cell_type": "markdown",
      "metadata": {
        "id": "view-in-github",
        "colab_type": "text"
      },
      "source": [
        "<a href=\"https://colab.research.google.com/github/BernardoCavalcanti/carte_vernier/blob/main/Carte_vernier.ipynb\" target=\"_parent\"><img src=\"https://colab.research.google.com/assets/colab-badge.svg\" alt=\"Open In Colab\"/></a>"
      ]
    },
    {
      "cell_type": "code",
      "execution_count": null,
      "metadata": {
        "id": "5BryY16jcSTO"
      },
      "outputs": [],
      "source": [
        "import pandas as pd\n",
        "import folium\n",
        "from folium.plugins import MarkerCluster\n",
        "\n",
        "# Load data (replace with your paths or dataframes)\n",
        "ecoles_df = pd.read_excel(\"Coordonées_écoles_mqs_addresses.xlsx\", sheet_name=\"écoles\")\n",
        "mqs_df = pd.read_excel(\"Coordonées_écoles_mqs_addresses.xlsx\", sheet_name=\"MQs\")\n",
        "final_df = pd.read_csv(\"final_subsector_data.csv\")  # merged with Nombre_enfants and coordinates\n",
        "\n",
        "# Map setup\n",
        "map_center = [final_df[\"Latitude\"].mean(), final_df[\"Longitude\"].mean()]\n",
        "vernier_map = folium.Map(location=map_center, zoom_start=14, tiles=\"CartoDB Positron\")\n",
        "\n",
        "# Add schools\n",
        "for _, row in ecoles_df.iterrows():\n",
        "    folium.Marker(\n",
        "        location=[row[\"Lattitute\"], row[\"Longitude\"]],\n",
        "        popup=row[\"Nom\"],\n",
        "        tooltip=\"École: \" + row[\"Nom\"],\n",
        "        icon=folium.Icon(color=\"blue\", icon=\"graduation-cap\", prefix=\"fa\")\n",
        "    ).add_to(vernier_map)\n",
        "\n",
        "# Add MQs\n",
        "for _, row in mqs_df.iterrows():\n",
        "    folium.Marker(\n",
        "        location=[row[\"Latitude\"], row[\"Longitude\"]],\n",
        "        popup=row[\"Nom\"],\n",
        "        tooltip=\"Centre: \" + row[\"Nom\"],\n",
        "        icon=folium.Icon(color=\"green\", icon=\"home\", prefix=\"fa\")\n",
        "    ).add_to(vernier_map)\n",
        "\n",
        "# Add bubbles\n",
        "for _, row in final_df.iterrows():\n",
        "    if row[\"Nombre_enfants\"] > 0:\n",
        "        folium.CircleMarker(\n",
        "            location=[row[\"Latitude\"], row[\"Longitude\"]],\n",
        "            radius=row[\"Nombre_enfants\"] ** 0.5 / 2.5,\n",
        "            popup=f\"{row['Sous-secteur'].title()}<br>Enfants: {int(row['Nombre_enfants'])}\",\n",
        "            tooltip=f\"{row['Sous-secteur'].title()} ({int(row['Nombre_enfants'])} enfants)\",\n",
        "            color=\"crimson\",\n",
        "            fill=True,\n",
        "            fill_color=\"crimson\",\n",
        "            fill_opacity=0.5\n",
        "        ).add_to(vernier_map)\n",
        "\n",
        "# Save map\n",
        "vernier_map.save(\"vernier_map.html\")\n"
      ]
    }
  ]
}