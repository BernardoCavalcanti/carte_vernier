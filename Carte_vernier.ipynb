{
  "nbformat": 4,
  "nbformat_minor": 0,
  "metadata": {
    "colab": {
      "provenance": [],
      "authorship_tag": "ABX9TyNkcs9mEhEPuz9ju2jBXEnc",
      "include_colab_link": true
    },
    "kernelspec": {
      "name": "python3",
      "display_name": "Python 3"
    },
    "language_info": {
      "name": "python"
    }
  },
  "cells": [
    {
      "cell_type": "markdown",
      "metadata": {
        "id": "view-in-github",
        "colab_type": "text"
      },
      "source": [
        "<a href=\"https://colab.research.google.com/github/BernardoCavalcanti/carte_vernier/blob/main/Carte_vernier.ipynb\" target=\"_parent\"><img src=\"https://colab.research.google.com/assets/colab-badge.svg\" alt=\"Open In Colab\"/></a>"
      ]
    },
    {
      "cell_type": "code",
      "source": [
        "!git clone https://github.com/BernardoCavalcanti/carte_vernier.git\n",
        "%cd carte_vernier\n"
      ],
      "metadata": {
        "collapsed": true,
        "id": "mbyPKoTlfBXs",
        "outputId": "af6b5480-eba5-423b-b0a4-db2bf5ab9498",
        "colab": {
          "base_uri": "https://localhost:8080/"
        }
      },
      "execution_count": null,
      "outputs": [
        {
          "output_type": "stream",
          "name": "stdout",
          "text": [
            "fatal: destination path 'carte_vernier' already exists and is not an empty directory.\n",
            "/content/carte_vernier\n"
          ]
        }
      ]
    },
    {
      "cell_type": "code",
      "source": [
        "!ls"
      ],
      "metadata": {
        "id": "1TU-5VREgKSC",
        "outputId": "8d436452-ff19-4ef4-8bd0-605b3fa26501",
        "colab": {
          "base_uri": "https://localhost:8080/"
        }
      },
      "execution_count": null,
      "outputs": [
        {
          "output_type": "stream",
          "name": "stdout",
          "text": [
            "Carte_vernier.ipynb\t\t      final_subsector_data.csv\n",
            "Coordonées_écoles_mqs_addresses.xlsx  README.md\n"
          ]
        }
      ]
    },
    {
      "cell_type": "code",
      "source": [
        "import pandas as pd\n",
        "import folium\n",
        "from folium.plugins import MarkerCluster\n",
        "\n",
        "# Load data files\n",
        "ecoles_df = pd.read_excel(\"Coordonées_écoles_mqs_addresses.xlsx\", sheet_name=\"écoles\")\n",
        "mqs_df = pd.read_excel(\"Coordonées_écoles_mqs_addresses.xlsx\", sheet_name=\"centres\")\n",
        "final_df = pd.read_csv(\"final_subsector_data.csv\")  # must contain: Sous-secteur, Latitude, Longitude, Nombre_enfants\n",
        "\n",
        "# Set map center\n",
        "map_center = [final_df[\"Latitude\"].mean(), final_df[\"Longitude\"].mean()]\n",
        "carte_vernier = folium.Map(location=map_center, zoom_start=14, tiles=\"CartoDB Positron\")\n",
        "\n",
        "# Add schools (blue pins)\n",
        "for _, row in ecoles_df.iterrows():\n",
        "    folium.Marker(\n",
        "        location=[row[\"Lattitute\"], row[\"Longitude\"]],\n",
        "        popup=row[\"Nom\"],\n",
        "        tooltip=row[\"Nom\"],\n",
        "        icon=folium.Icon(color=\"blue\", icon=\"graduation-cap\", prefix=\"fa\")\n",
        "    ).add_to(carte_vernier)\n",
        "\n",
        "# Add MQs (green pins)\n",
        "for _, row in mqs_df.iterrows():\n",
        "    folium.Marker(\n",
        "        location=[row[\"Latitude\"], row[\"Longitude\"]],\n",
        "        popup=row[\"Nom\"],\n",
        "        tooltip=row[\"Nom\"],\n",
        "        icon=folium.Icon(color=\"green\", icon=\"home\", prefix=\"fa\")\n",
        "    ).add_to(carte_vernier)\n",
        "\n",
        "# Add bubbles by child count\n",
        "for _, row in final_df.iterrows():\n",
        "    if row[\"Nombre_enfants\"] > 0:\n",
        "        folium.CircleMarker(\n",
        "            location=[row[\"Latitude\"], row[\"Longitude\"]],\n",
        "            radius=row[\"Nombre_enfants\"] ** 0.5 / 2.5,\n",
        "            popup=f\"{row['Sous-secteur'].title()}<br>Enfants: {int(row['Nombre_enfants'])}\",\n",
        "            tooltip=f\"{row['Sous-secteur'].title()} ({int(row['Nombre_enfants'])} enfants)\",\n",
        "            color=\"crimson\",\n",
        "            fill=True,\n",
        "            fill_color=\"crimson\",\n",
        "            fill_opacity=0.5\n",
        "        ).add_to(carte_vernier)\n",
        "\n",
        "# Save the map\n",
        "carte_vernier.save(\"index.html\")\n",
        "print(\"✅ Map saved as index.html\")\n"
      ],
      "metadata": {
        "id": "P6ChRTNzhW-Q",
        "outputId": "e680f663-7dcb-465c-d9af-74594551521f",
        "colab": {
          "base_uri": "https://localhost:8080/"
        }
      },
      "execution_count": 17,
      "outputs": [
        {
          "output_type": "stream",
          "name": "stdout",
          "text": [
            "✅ Map saved as index.html\n"
          ]
        }
      ]
    }
  ]
}